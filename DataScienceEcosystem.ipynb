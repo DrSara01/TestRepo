{
  "metadata": {
    "kernelspec": {
      "name": "xpython",
      "display_name": "Python 3.13 (XPython)",
      "language": "python"
    },
    "language_info": {
      "file_extension": ".py",
      "mimetype": "text/x-python",
      "name": "python",
      "version": "3.13.1"
    }
  },
  "nbformat_minor": 5,
  "nbformat": 4,
  "cells": [
    {
      "id": "77ef0bd5-aadd-4faf-ab9d-9767f6b4853e",
      "cell_type": "markdown",
      "source": "# Data Science Tools and Ecosystem",
      "metadata": {}
    },
    {
      "id": "ba471081-6f1a-417c-9cf5-195b56daca2c",
      "cell_type": "markdown",
      "source": "In this notebook, Data Science Tools and Ecosystem are summarized.",
      "metadata": {}
    },
    {
      "id": "bfbf2b29-510d-4883-914c-a43823a9d317",
      "cell_type": "markdown",
      "source": "**Objectives:**\n- Identify popular programming languages used in Data Science\n- Describe commonly used data science libraries\n- Present examples of open-source development tools\n- Demonstrate arithmetic operations within Python code cells\n- Perform time unit conversions using Python",
      "metadata": {}
    },
    {
      "id": "a58fde1a-fc1d-49fa-81d3-5ce9d5881f86",
      "cell_type": "markdown",
      "source": "Some of the popular languages that Data Scientists use are:\n1. Python\n2. R\n3. SQL\n4. Julia",
      "metadata": {}
    },
    {
      "id": "5a7af63c-3c1e-4447-bf56-a8a40e95cb00",
      "cell_type": "markdown",
      "source": "Some of the commonly used libraries used by Data Scientists include:\n1. Pandas\n2. NumPy\n3. Matplotlib\n4. Scikit-learn",
      "metadata": {}
    },
    {
      "id": "eb60a702-97e4-4f43-84ab-55037f2d3827",
      "cell_type": "markdown",
      "source": "| Data Science Tools |\n|--------------------|\n| Jupyter Notebook   |\n| RStudio            |\n| Apache Zeppelin    |",
      "metadata": {}
    },
    {
      "id": "826423ba-fe51-4db6-9f90-c4a53e7006ba",
      "cell_type": "markdown",
      "source": "### Below are a few examples of evaluating arithmetic expressions in Python.",
      "metadata": {}
    },
    {
      "id": "5e06ee6a-7257-4d74-be3e-fe5a824f044f",
      "cell_type": "markdown",
      "source": "### This a simple arithmetic expression to mutiply then add integers.",
      "metadata": {}
    },
    {
      "id": "335f1b58-cf72-468f-9cbc-d7aaf3065c29",
      "cell_type": "code",
      "source": "(3 * 4) + 5",
      "metadata": {
        "trusted": true
      },
      "outputs": [
        {
          "execution_count": 1,
          "output_type": "execute_result",
          "data": {
            "text/plain": "17"
          },
          "metadata": {}
        }
      ],
      "execution_count": 1
    },
    {
      "id": "957aaa2c-cc51-4604-a345-e3e89b20754c",
      "cell_type": "code",
      "source": "# This will convert 200 minutes to hours by dividing by 60\n200 / 60",
      "metadata": {
        "trusted": true
      },
      "outputs": [
        {
          "execution_count": 2,
          "output_type": "execute_result",
          "data": {
            "text/plain": "3.3333333333333335"
          },
          "metadata": {}
        }
      ],
      "execution_count": 2
    },
    {
      "id": "5fdf8443-35a1-465b-bacb-161fbc2760f3",
      "cell_type": "markdown",
      "source": "## Author\nSara RAMDANI",
      "metadata": {}
    }
  ]
}